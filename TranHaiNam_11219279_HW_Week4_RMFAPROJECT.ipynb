{
 "cells": [
  {
   "cell_type": "code",
   "execution_count": 1,
   "id": "c73bcf8c",
   "metadata": {},
   "outputs": [],
   "source": [
    "import pandas as pd\n",
    "import numpy as np\n",
    "import datetime as dt"
   ]
  },
  {
   "cell_type": "markdown",
   "id": "9dbfdb62",
   "metadata": {},
   "source": [
    "# Cleaning Data"
   ]
  },
  {
   "cell_type": "markdown",
   "id": "0ad72f45",
   "metadata": {},
   "source": [
    "**Use the pd.read_csv() function to read the Online Retail.xlsx file into a dataframe called df**"
   ]
  },
  {
   "cell_type": "code",
   "execution_count": 2,
   "id": "abe821f0",
   "metadata": {},
   "outputs": [],
   "source": [
    "df = pd.read_csv('OnlineRetail2.csv', encoding ='latin')"
   ]
  },
  {
   "cell_type": "markdown",
   "id": "2a948583",
   "metadata": {},
   "source": [
    "**Use the DataFrame.info() and DataFrame.head() methods to print information about both\n",
    "dataframes, as well as the first few rows**"
   ]
  },
  {
   "cell_type": "code",
   "execution_count": 3,
   "id": "83a5e155",
   "metadata": {},
   "outputs": [
    {
     "data": {
      "text/html": [
       "<div>\n",
       "<style scoped>\n",
       "    .dataframe tbody tr th:only-of-type {\n",
       "        vertical-align: middle;\n",
       "    }\n",
       "\n",
       "    .dataframe tbody tr th {\n",
       "        vertical-align: top;\n",
       "    }\n",
       "\n",
       "    .dataframe thead th {\n",
       "        text-align: right;\n",
       "    }\n",
       "</style>\n",
       "<table border=\"1\" class=\"dataframe\">\n",
       "  <thead>\n",
       "    <tr style=\"text-align: right;\">\n",
       "      <th></th>\n",
       "      <th>InvoiceNo</th>\n",
       "      <th>StockCode</th>\n",
       "      <th>Description</th>\n",
       "      <th>Quantity</th>\n",
       "      <th>InvoiceDate</th>\n",
       "      <th>UnitPrice</th>\n",
       "      <th>CustomerID</th>\n",
       "      <th>Country</th>\n",
       "    </tr>\n",
       "  </thead>\n",
       "  <tbody>\n",
       "    <tr>\n",
       "      <th>0</th>\n",
       "      <td>539993</td>\n",
       "      <td>22386</td>\n",
       "      <td>JUMBO BAG PINK POLKADOT</td>\n",
       "      <td>10</td>\n",
       "      <td>2011-01-04 10:00:00</td>\n",
       "      <td>1.95</td>\n",
       "      <td>13313.0</td>\n",
       "      <td>United Kingdom</td>\n",
       "    </tr>\n",
       "    <tr>\n",
       "      <th>1</th>\n",
       "      <td>539993</td>\n",
       "      <td>21499</td>\n",
       "      <td>BLUE POLKADOT WRAP</td>\n",
       "      <td>25</td>\n",
       "      <td>2011-01-04 10:00:00</td>\n",
       "      <td>0.42</td>\n",
       "      <td>13313.0</td>\n",
       "      <td>United Kingdom</td>\n",
       "    </tr>\n",
       "    <tr>\n",
       "      <th>2</th>\n",
       "      <td>539993</td>\n",
       "      <td>21498</td>\n",
       "      <td>RED RETROSPOT WRAP</td>\n",
       "      <td>25</td>\n",
       "      <td>2011-01-04 10:00:00</td>\n",
       "      <td>0.42</td>\n",
       "      <td>13313.0</td>\n",
       "      <td>United Kingdom</td>\n",
       "    </tr>\n",
       "    <tr>\n",
       "      <th>3</th>\n",
       "      <td>539993</td>\n",
       "      <td>22379</td>\n",
       "      <td>RECYCLING BAG RETROSPOT</td>\n",
       "      <td>5</td>\n",
       "      <td>2011-01-04 10:00:00</td>\n",
       "      <td>2.10</td>\n",
       "      <td>13313.0</td>\n",
       "      <td>United Kingdom</td>\n",
       "    </tr>\n",
       "    <tr>\n",
       "      <th>4</th>\n",
       "      <td>539993</td>\n",
       "      <td>20718</td>\n",
       "      <td>RED RETROSPOT SHOPPER BAG</td>\n",
       "      <td>10</td>\n",
       "      <td>2011-01-04 10:00:00</td>\n",
       "      <td>1.25</td>\n",
       "      <td>13313.0</td>\n",
       "      <td>United Kingdom</td>\n",
       "    </tr>\n",
       "  </tbody>\n",
       "</table>\n",
       "</div>"
      ],
      "text/plain": [
       "  InvoiceNo StockCode                Description  Quantity  \\\n",
       "0    539993     22386    JUMBO BAG PINK POLKADOT        10   \n",
       "1    539993     21499         BLUE POLKADOT WRAP        25   \n",
       "2    539993     21498        RED RETROSPOT WRAP         25   \n",
       "3    539993     22379   RECYCLING BAG RETROSPOT          5   \n",
       "4    539993     20718  RED RETROSPOT SHOPPER BAG        10   \n",
       "\n",
       "           InvoiceDate  UnitPrice  CustomerID         Country  \n",
       "0  2011-01-04 10:00:00       1.95     13313.0  United Kingdom  \n",
       "1  2011-01-04 10:00:00       0.42     13313.0  United Kingdom  \n",
       "2  2011-01-04 10:00:00       0.42     13313.0  United Kingdom  \n",
       "3  2011-01-04 10:00:00       2.10     13313.0  United Kingdom  \n",
       "4  2011-01-04 10:00:00       1.25     13313.0  United Kingdom  "
      ]
     },
     "execution_count": 3,
     "metadata": {},
     "output_type": "execute_result"
    }
   ],
   "source": [
    "df.head()"
   ]
  },
  {
   "cell_type": "code",
   "execution_count": 4,
   "id": "1e8d0738",
   "metadata": {},
   "outputs": [
    {
     "name": "stdout",
     "output_type": "stream",
     "text": [
      "<class 'pandas.core.frame.DataFrame'>\n",
      "RangeIndex: 161469 entries, 0 to 161468\n",
      "Data columns (total 8 columns):\n",
      " #   Column       Non-Null Count   Dtype  \n",
      "---  ------       --------------   -----  \n",
      " 0   InvoiceNo    161469 non-null  object \n",
      " 1   StockCode    161469 non-null  object \n",
      " 2   Description  160780 non-null  object \n",
      " 3   Quantity     161469 non-null  int64  \n",
      " 4   InvoiceDate  161469 non-null  object \n",
      " 5   UnitPrice    161469 non-null  float64\n",
      " 6   CustomerID   118104 non-null  float64\n",
      " 7   Country      161468 non-null  object \n",
      "dtypes: float64(2), int64(1), object(5)\n",
      "memory usage: 9.9+ MB\n"
     ]
    }
   ],
   "source": [
    "df.info()"
   ]
  },
  {
   "cell_type": "markdown",
   "id": "b0774858",
   "metadata": {},
   "source": [
    "**Check duplicated rows**"
   ]
  },
  {
   "cell_type": "code",
   "execution_count": 5,
   "id": "dc284a1b",
   "metadata": {},
   "outputs": [
    {
     "data": {
      "text/plain": [
       "1206"
      ]
     },
     "execution_count": 5,
     "metadata": {},
     "output_type": "execute_result"
    }
   ],
   "source": [
    "df.duplicated().sum()"
   ]
  },
  {
   "cell_type": "markdown",
   "id": "f58e3206",
   "metadata": {},
   "source": [
    "**Which attribute determines other attributes**"
   ]
  },
  {
   "cell_type": "code",
   "execution_count": null,
   "id": "dbd14e7a",
   "metadata": {},
   "outputs": [],
   "source": []
  },
  {
   "cell_type": "markdown",
   "id": "fcf45369",
   "metadata": {},
   "source": [
    "**Check the distribution of the Quantity attribute using the pd.describe() method**"
   ]
  },
  {
   "cell_type": "code",
   "execution_count": 6,
   "id": "8f67c649",
   "metadata": {},
   "outputs": [
    {
     "data": {
      "text/plain": [
       "count    161469.000000\n",
       "mean          9.604122\n",
       "std         266.156359\n",
       "min      -74215.000000\n",
       "25%           1.000000\n",
       "50%           3.000000\n",
       "75%          10.000000\n",
       "max       74215.000000\n",
       "Name: Quantity, dtype: float64"
      ]
     },
     "execution_count": 6,
     "metadata": {},
     "output_type": "execute_result"
    }
   ],
   "source": [
    "df['Quantity'].describe()"
   ]
  },
  {
   "cell_type": "markdown",
   "id": "35671a16",
   "metadata": {},
   "source": [
    "**What anomalies have you observed?**"
   ]
  },
  {
   "cell_type": "markdown",
   "id": "51d5afb2",
   "metadata": {},
   "source": [
    "The negative value appears in the minium of Quantity"
   ]
  },
  {
   "cell_type": "markdown",
   "id": "205964be",
   "metadata": {},
   "source": [
    "- Drop duplicated rows \n",
    "\n",
    "- Delete records with the value of Quantity <=0 \n",
    "\n",
    "- Drop records with null CustomerID"
   ]
  },
  {
   "cell_type": "code",
   "execution_count": 7,
   "id": "2182dd27",
   "metadata": {},
   "outputs": [],
   "source": [
    "df = df.drop_duplicates()\n",
    "\n",
    "df = df.drop_duplicates(subset=['InvoiceNo', 'StockCode', 'Quantity'])\n",
    "df = df[df['CustomerID'].notnull()]\n",
    "df['InvoiceDate'] = pd.to_datetime(df['InvoiceDate'])\n",
    "\n",
    "df = df[df['Quantity'] > 0]"
   ]
  },
  {
   "cell_type": "code",
   "execution_count": 8,
   "id": "efb7e2b5",
   "metadata": {},
   "outputs": [
    {
     "name": "stdout",
     "output_type": "stream",
     "text": [
      "<class 'pandas.core.frame.DataFrame'>\n",
      "Int64Index: 114097 entries, 0 to 161468\n",
      "Data columns (total 8 columns):\n",
      " #   Column       Non-Null Count   Dtype         \n",
      "---  ------       --------------   -----         \n",
      " 0   InvoiceNo    114097 non-null  object        \n",
      " 1   StockCode    114097 non-null  object        \n",
      " 2   Description  114097 non-null  object        \n",
      " 3   Quantity     114097 non-null  int64         \n",
      " 4   InvoiceDate  114097 non-null  datetime64[ns]\n",
      " 5   UnitPrice    114097 non-null  float64       \n",
      " 6   CustomerID   114097 non-null  float64       \n",
      " 7   Country      114096 non-null  object        \n",
      "dtypes: datetime64[ns](1), float64(2), int64(1), object(4)\n",
      "memory usage: 7.8+ MB\n"
     ]
    }
   ],
   "source": [
    "df.info()"
   ]
  },
  {
   "cell_type": "markdown",
   "id": "2b070185",
   "metadata": {},
   "source": [
    "# RFM Analysis"
   ]
  },
  {
   "cell_type": "markdown",
   "id": "35e208c2",
   "metadata": {},
   "source": [
    "**Calculate Recency, Frequency, and Monetary values for each customer. Store the result in a dataframe named the customer_df**"
   ]
  },
  {
   "cell_type": "code",
   "execution_count": 9,
   "id": "33eb2151",
   "metadata": {},
   "outputs": [
    {
     "data": {
      "text/plain": [
       "pandas.core.frame.DataFrame"
      ]
     },
     "execution_count": 9,
     "metadata": {},
     "output_type": "execute_result"
    }
   ],
   "source": [
    "customer_df = pd.DataFrame()\n",
    "type(customer_df)"
   ]
  },
  {
   "cell_type": "code",
   "execution_count": 27,
   "id": "56007feb",
   "metadata": {},
   "outputs": [],
   "source": [
    "customer_df['CustomerID'] = df['CustomerID'].unique()"
   ]
  },
  {
   "cell_type": "markdown",
   "id": "51f1ecc8",
   "metadata": {},
   "source": [
    "**Create a new column named ‘TotalRevenue’ as the product of two columns Quantity and UnitPrice**"
   ]
  },
  {
   "cell_type": "code",
   "execution_count": 11,
   "id": "f06200d0",
   "metadata": {},
   "outputs": [
    {
     "data": {
      "text/html": [
       "<div>\n",
       "<style scoped>\n",
       "    .dataframe tbody tr th:only-of-type {\n",
       "        vertical-align: middle;\n",
       "    }\n",
       "\n",
       "    .dataframe tbody tr th {\n",
       "        vertical-align: top;\n",
       "    }\n",
       "\n",
       "    .dataframe thead th {\n",
       "        text-align: right;\n",
       "    }\n",
       "</style>\n",
       "<table border=\"1\" class=\"dataframe\">\n",
       "  <thead>\n",
       "    <tr style=\"text-align: right;\">\n",
       "      <th></th>\n",
       "      <th>InvoiceNo</th>\n",
       "      <th>StockCode</th>\n",
       "      <th>Description</th>\n",
       "      <th>Quantity</th>\n",
       "      <th>InvoiceDate</th>\n",
       "      <th>UnitPrice</th>\n",
       "      <th>CustomerID</th>\n",
       "      <th>Country</th>\n",
       "      <th>TotalRevenue</th>\n",
       "    </tr>\n",
       "  </thead>\n",
       "  <tbody>\n",
       "    <tr>\n",
       "      <th>0</th>\n",
       "      <td>539993</td>\n",
       "      <td>22386</td>\n",
       "      <td>JUMBO BAG PINK POLKADOT</td>\n",
       "      <td>10</td>\n",
       "      <td>2011-01-04 10:00:00</td>\n",
       "      <td>1.95</td>\n",
       "      <td>13313.0</td>\n",
       "      <td>United Kingdom</td>\n",
       "      <td>19.50</td>\n",
       "    </tr>\n",
       "    <tr>\n",
       "      <th>1</th>\n",
       "      <td>539993</td>\n",
       "      <td>21499</td>\n",
       "      <td>BLUE POLKADOT WRAP</td>\n",
       "      <td>25</td>\n",
       "      <td>2011-01-04 10:00:00</td>\n",
       "      <td>0.42</td>\n",
       "      <td>13313.0</td>\n",
       "      <td>United Kingdom</td>\n",
       "      <td>10.50</td>\n",
       "    </tr>\n",
       "    <tr>\n",
       "      <th>2</th>\n",
       "      <td>539993</td>\n",
       "      <td>21498</td>\n",
       "      <td>RED RETROSPOT WRAP</td>\n",
       "      <td>25</td>\n",
       "      <td>2011-01-04 10:00:00</td>\n",
       "      <td>0.42</td>\n",
       "      <td>13313.0</td>\n",
       "      <td>United Kingdom</td>\n",
       "      <td>10.50</td>\n",
       "    </tr>\n",
       "    <tr>\n",
       "      <th>3</th>\n",
       "      <td>539993</td>\n",
       "      <td>22379</td>\n",
       "      <td>RECYCLING BAG RETROSPOT</td>\n",
       "      <td>5</td>\n",
       "      <td>2011-01-04 10:00:00</td>\n",
       "      <td>2.10</td>\n",
       "      <td>13313.0</td>\n",
       "      <td>United Kingdom</td>\n",
       "      <td>10.50</td>\n",
       "    </tr>\n",
       "    <tr>\n",
       "      <th>4</th>\n",
       "      <td>539993</td>\n",
       "      <td>20718</td>\n",
       "      <td>RED RETROSPOT SHOPPER BAG</td>\n",
       "      <td>10</td>\n",
       "      <td>2011-01-04 10:00:00</td>\n",
       "      <td>1.25</td>\n",
       "      <td>13313.0</td>\n",
       "      <td>United Kingdom</td>\n",
       "      <td>12.50</td>\n",
       "    </tr>\n",
       "    <tr>\n",
       "      <th>...</th>\n",
       "      <td>...</td>\n",
       "      <td>...</td>\n",
       "      <td>...</td>\n",
       "      <td>...</td>\n",
       "      <td>...</td>\n",
       "      <td>...</td>\n",
       "      <td>...</td>\n",
       "      <td>...</td>\n",
       "      <td>...</td>\n",
       "    </tr>\n",
       "    <tr>\n",
       "      <th>161464</th>\n",
       "      <td>554598</td>\n",
       "      <td>22722</td>\n",
       "      <td>SET OF 6 SPICE TINS PANTRY DESIGN</td>\n",
       "      <td>4</td>\n",
       "      <td>2011-05-25 11:12:00</td>\n",
       "      <td>3.95</td>\n",
       "      <td>13263.0</td>\n",
       "      <td>United Kingdom</td>\n",
       "      <td>15.80</td>\n",
       "    </tr>\n",
       "    <tr>\n",
       "      <th>161465</th>\n",
       "      <td>554598</td>\n",
       "      <td>21462</td>\n",
       "      <td>NURSERY A,B,C PAINTED LETTERS</td>\n",
       "      <td>1</td>\n",
       "      <td>2011-05-25 11:12:00</td>\n",
       "      <td>6.75</td>\n",
       "      <td>13263.0</td>\n",
       "      <td>United Kingdom</td>\n",
       "      <td>6.75</td>\n",
       "    </tr>\n",
       "    <tr>\n",
       "      <th>161466</th>\n",
       "      <td>554598</td>\n",
       "      <td>85183B</td>\n",
       "      <td>CHARLIE &amp; LOLA WASTEPAPER BIN FLORA</td>\n",
       "      <td>6</td>\n",
       "      <td>2011-05-25 11:12:00</td>\n",
       "      <td>1.25</td>\n",
       "      <td>13263.0</td>\n",
       "      <td>United Kingdom</td>\n",
       "      <td>7.50</td>\n",
       "    </tr>\n",
       "    <tr>\n",
       "      <th>161467</th>\n",
       "      <td>554603</td>\n",
       "      <td>20970</td>\n",
       "      <td>PINK FLORAL FELTCRAFT SHOULDER BAG</td>\n",
       "      <td>2</td>\n",
       "      <td>2011-05-25 11:14:00</td>\n",
       "      <td>3.75</td>\n",
       "      <td>14593.0</td>\n",
       "      <td>United Kingdom</td>\n",
       "      <td>7.50</td>\n",
       "    </tr>\n",
       "    <tr>\n",
       "      <th>161468</th>\n",
       "      <td>554603</td>\n",
       "      <td>21932</td>\n",
       "      <td>SCANDINAVIAN PAISLEY PICNIC BAG</td>\n",
       "      <td>1</td>\n",
       "      <td>2011-05-25 11:14:00</td>\n",
       "      <td>1.65</td>\n",
       "      <td>14593.0</td>\n",
       "      <td>NaN</td>\n",
       "      <td>1.65</td>\n",
       "    </tr>\n",
       "  </tbody>\n",
       "</table>\n",
       "<p>114097 rows × 9 columns</p>\n",
       "</div>"
      ],
      "text/plain": [
       "       InvoiceNo StockCode                          Description  Quantity  \\\n",
       "0         539993     22386              JUMBO BAG PINK POLKADOT        10   \n",
       "1         539993     21499                   BLUE POLKADOT WRAP        25   \n",
       "2         539993     21498                  RED RETROSPOT WRAP         25   \n",
       "3         539993     22379             RECYCLING BAG RETROSPOT          5   \n",
       "4         539993     20718            RED RETROSPOT SHOPPER BAG        10   \n",
       "...          ...       ...                                  ...       ...   \n",
       "161464    554598     22722    SET OF 6 SPICE TINS PANTRY DESIGN         4   \n",
       "161465    554598     21462        NURSERY A,B,C PAINTED LETTERS         1   \n",
       "161466    554598    85183B  CHARLIE & LOLA WASTEPAPER BIN FLORA         6   \n",
       "161467    554603     20970   PINK FLORAL FELTCRAFT SHOULDER BAG         2   \n",
       "161468    554603     21932      SCANDINAVIAN PAISLEY PICNIC BAG         1   \n",
       "\n",
       "               InvoiceDate  UnitPrice  CustomerID         Country  \\\n",
       "0      2011-01-04 10:00:00       1.95     13313.0  United Kingdom   \n",
       "1      2011-01-04 10:00:00       0.42     13313.0  United Kingdom   \n",
       "2      2011-01-04 10:00:00       0.42     13313.0  United Kingdom   \n",
       "3      2011-01-04 10:00:00       2.10     13313.0  United Kingdom   \n",
       "4      2011-01-04 10:00:00       1.25     13313.0  United Kingdom   \n",
       "...                    ...        ...         ...             ...   \n",
       "161464 2011-05-25 11:12:00       3.95     13263.0  United Kingdom   \n",
       "161465 2011-05-25 11:12:00       6.75     13263.0  United Kingdom   \n",
       "161466 2011-05-25 11:12:00       1.25     13263.0  United Kingdom   \n",
       "161467 2011-05-25 11:14:00       3.75     14593.0  United Kingdom   \n",
       "161468 2011-05-25 11:14:00       1.65     14593.0             NaN   \n",
       "\n",
       "        TotalRevenue  \n",
       "0              19.50  \n",
       "1              10.50  \n",
       "2              10.50  \n",
       "3              10.50  \n",
       "4              12.50  \n",
       "...              ...  \n",
       "161464         15.80  \n",
       "161465          6.75  \n",
       "161466          7.50  \n",
       "161467          7.50  \n",
       "161468          1.65  \n",
       "\n",
       "[114097 rows x 9 columns]"
      ]
     },
     "execution_count": 11,
     "metadata": {},
     "output_type": "execute_result"
    }
   ],
   "source": [
    "df['TotalRevenue'] = df['Quantity'] * df['UnitPrice']\n",
    "df"
   ]
  },
  {
   "cell_type": "markdown",
   "id": "3ed4d007",
   "metadata": {},
   "source": [
    "**Create a new dataframe named frequency_df. This dataframe has only two columns:**\n",
    "\n",
    "    • The ‘CustomerID’ column stores the unique ID of each customer\n",
    "    • The ‘Frequency’ column stores the frequency value of each customer"
   ]
  },
  {
   "cell_type": "code",
   "execution_count": 12,
   "id": "448ce05e",
   "metadata": {},
   "outputs": [
    {
     "data": {
      "text/plain": [
       "CustomerID\n",
       "12346.0    1\n",
       "12347.0    2\n",
       "12348.0    2\n",
       "12350.0    1\n",
       "12352.0    5\n",
       "          ..\n",
       "18272.0    2\n",
       "18273.0    1\n",
       "18280.0    1\n",
       "18283.0    5\n",
       "18287.0    1\n",
       "Name: InvoiceNo, Length: 2410, dtype: int64"
      ]
     },
     "execution_count": 12,
     "metadata": {},
     "output_type": "execute_result"
    }
   ],
   "source": [
    "frequency_col = df.groupby('CustomerID')['InvoiceNo'].nunique()\n",
    "frequency_col"
   ]
  },
  {
   "cell_type": "code",
   "execution_count": 13,
   "id": "6f22fa3a",
   "metadata": {},
   "outputs": [
    {
     "data": {
      "text/html": [
       "<div>\n",
       "<style scoped>\n",
       "    .dataframe tbody tr th:only-of-type {\n",
       "        vertical-align: middle;\n",
       "    }\n",
       "\n",
       "    .dataframe tbody tr th {\n",
       "        vertical-align: top;\n",
       "    }\n",
       "\n",
       "    .dataframe thead th {\n",
       "        text-align: right;\n",
       "    }\n",
       "</style>\n",
       "<table border=\"1\" class=\"dataframe\">\n",
       "  <thead>\n",
       "    <tr style=\"text-align: right;\">\n",
       "      <th></th>\n",
       "      <th>CustomerID</th>\n",
       "      <th>Frequency</th>\n",
       "    </tr>\n",
       "  </thead>\n",
       "  <tbody>\n",
       "    <tr>\n",
       "      <th>0</th>\n",
       "      <td>12346.0</td>\n",
       "      <td>1</td>\n",
       "    </tr>\n",
       "    <tr>\n",
       "      <th>1</th>\n",
       "      <td>12347.0</td>\n",
       "      <td>2</td>\n",
       "    </tr>\n",
       "    <tr>\n",
       "      <th>2</th>\n",
       "      <td>12348.0</td>\n",
       "      <td>2</td>\n",
       "    </tr>\n",
       "    <tr>\n",
       "      <th>3</th>\n",
       "      <td>12350.0</td>\n",
       "      <td>1</td>\n",
       "    </tr>\n",
       "    <tr>\n",
       "      <th>4</th>\n",
       "      <td>12352.0</td>\n",
       "      <td>5</td>\n",
       "    </tr>\n",
       "    <tr>\n",
       "      <th>...</th>\n",
       "      <td>...</td>\n",
       "      <td>...</td>\n",
       "    </tr>\n",
       "    <tr>\n",
       "      <th>2405</th>\n",
       "      <td>18272.0</td>\n",
       "      <td>2</td>\n",
       "    </tr>\n",
       "    <tr>\n",
       "      <th>2406</th>\n",
       "      <td>18273.0</td>\n",
       "      <td>1</td>\n",
       "    </tr>\n",
       "    <tr>\n",
       "      <th>2407</th>\n",
       "      <td>18280.0</td>\n",
       "      <td>1</td>\n",
       "    </tr>\n",
       "    <tr>\n",
       "      <th>2408</th>\n",
       "      <td>18283.0</td>\n",
       "      <td>5</td>\n",
       "    </tr>\n",
       "    <tr>\n",
       "      <th>2409</th>\n",
       "      <td>18287.0</td>\n",
       "      <td>1</td>\n",
       "    </tr>\n",
       "  </tbody>\n",
       "</table>\n",
       "<p>2410 rows × 2 columns</p>\n",
       "</div>"
      ],
      "text/plain": [
       "      CustomerID  Frequency\n",
       "0        12346.0          1\n",
       "1        12347.0          2\n",
       "2        12348.0          2\n",
       "3        12350.0          1\n",
       "4        12352.0          5\n",
       "...          ...        ...\n",
       "2405     18272.0          2\n",
       "2406     18273.0          1\n",
       "2407     18280.0          1\n",
       "2408     18283.0          5\n",
       "2409     18287.0          1\n",
       "\n",
       "[2410 rows x 2 columns]"
      ]
     },
     "execution_count": 13,
     "metadata": {},
     "output_type": "execute_result"
    }
   ],
   "source": [
    "frequency_df = pd.DataFrame({'CustomerID':frequency_col.index, 'Frequency':frequency_col.values})\n",
    "frequency_df"
   ]
  },
  {
   "cell_type": "markdown",
   "id": "01c3ca09",
   "metadata": {},
   "source": [
    "**Create a new dataframe named monetary_df. This dataframe has only two columns:**\n",
    "    \n",
    "    • The ‘ CustomerID’ column stores the unique ID of each customer\n",
    "    • The ‘Monetary’ column stores the total revenue of each customer\n"
   ]
  },
  {
   "cell_type": "code",
   "execution_count": 14,
   "id": "be6b199e",
   "metadata": {},
   "outputs": [
    {
     "data": {
      "text/plain": [
       "CustomerID\n",
       "12346.0    77183.60\n",
       "12347.0     1111.64\n",
       "12348.0      594.44\n",
       "12350.0      334.40\n",
       "12352.0     1098.01\n",
       "             ...   \n",
       "18272.0      980.54\n",
       "18273.0       51.00\n",
       "18280.0      180.60\n",
       "18283.0      515.52\n",
       "18287.0      765.28\n",
       "Name: TotalRevenue, Length: 2410, dtype: float64"
      ]
     },
     "execution_count": 14,
     "metadata": {},
     "output_type": "execute_result"
    }
   ],
   "source": [
    "monetary_col = df.groupby('CustomerID')['TotalRevenue'].sum()\n",
    "monetary_col"
   ]
  },
  {
   "cell_type": "code",
   "execution_count": 15,
   "id": "14d25fc1",
   "metadata": {},
   "outputs": [
    {
     "data": {
      "text/html": [
       "<div>\n",
       "<style scoped>\n",
       "    .dataframe tbody tr th:only-of-type {\n",
       "        vertical-align: middle;\n",
       "    }\n",
       "\n",
       "    .dataframe tbody tr th {\n",
       "        vertical-align: top;\n",
       "    }\n",
       "\n",
       "    .dataframe thead th {\n",
       "        text-align: right;\n",
       "    }\n",
       "</style>\n",
       "<table border=\"1\" class=\"dataframe\">\n",
       "  <thead>\n",
       "    <tr style=\"text-align: right;\">\n",
       "      <th></th>\n",
       "      <th>CustomerID</th>\n",
       "      <th>Monetary</th>\n",
       "    </tr>\n",
       "  </thead>\n",
       "  <tbody>\n",
       "    <tr>\n",
       "      <th>0</th>\n",
       "      <td>12346.0</td>\n",
       "      <td>77183.60</td>\n",
       "    </tr>\n",
       "    <tr>\n",
       "      <th>1</th>\n",
       "      <td>12347.0</td>\n",
       "      <td>1111.64</td>\n",
       "    </tr>\n",
       "    <tr>\n",
       "      <th>2</th>\n",
       "      <td>12348.0</td>\n",
       "      <td>594.44</td>\n",
       "    </tr>\n",
       "    <tr>\n",
       "      <th>3</th>\n",
       "      <td>12350.0</td>\n",
       "      <td>334.40</td>\n",
       "    </tr>\n",
       "    <tr>\n",
       "      <th>4</th>\n",
       "      <td>12352.0</td>\n",
       "      <td>1098.01</td>\n",
       "    </tr>\n",
       "    <tr>\n",
       "      <th>...</th>\n",
       "      <td>...</td>\n",
       "      <td>...</td>\n",
       "    </tr>\n",
       "    <tr>\n",
       "      <th>2405</th>\n",
       "      <td>18272.0</td>\n",
       "      <td>980.54</td>\n",
       "    </tr>\n",
       "    <tr>\n",
       "      <th>2406</th>\n",
       "      <td>18273.0</td>\n",
       "      <td>51.00</td>\n",
       "    </tr>\n",
       "    <tr>\n",
       "      <th>2407</th>\n",
       "      <td>18280.0</td>\n",
       "      <td>180.60</td>\n",
       "    </tr>\n",
       "    <tr>\n",
       "      <th>2408</th>\n",
       "      <td>18283.0</td>\n",
       "      <td>515.52</td>\n",
       "    </tr>\n",
       "    <tr>\n",
       "      <th>2409</th>\n",
       "      <td>18287.0</td>\n",
       "      <td>765.28</td>\n",
       "    </tr>\n",
       "  </tbody>\n",
       "</table>\n",
       "<p>2410 rows × 2 columns</p>\n",
       "</div>"
      ],
      "text/plain": [
       "      CustomerID  Monetary\n",
       "0        12346.0  77183.60\n",
       "1        12347.0   1111.64\n",
       "2        12348.0    594.44\n",
       "3        12350.0    334.40\n",
       "4        12352.0   1098.01\n",
       "...          ...       ...\n",
       "2405     18272.0    980.54\n",
       "2406     18273.0     51.00\n",
       "2407     18280.0    180.60\n",
       "2408     18283.0    515.52\n",
       "2409     18287.0    765.28\n",
       "\n",
       "[2410 rows x 2 columns]"
      ]
     },
     "execution_count": 15,
     "metadata": {},
     "output_type": "execute_result"
    }
   ],
   "source": [
    "monetary_df = pd.DataFrame({'CustomerID':monetary_col.index,'Monetary':monetary_col.values})\n",
    "monetary_df"
   ]
  },
  {
   "cell_type": "markdown",
   "id": "99c2195c",
   "metadata": {},
   "source": [
    "**Create a new dataframe named recency_df. This dataframe has only two columns:**\n",
    "\n",
    "    • The ‘CustomerID’ column stores the unique ID of each customer\n",
    "    • The ‘Recency’ column stores the recency value of each customer"
   ]
  },
  {
   "cell_type": "code",
   "execution_count": 16,
   "id": "917763f1",
   "metadata": {},
   "outputs": [
    {
     "data": {
      "text/plain": [
       "CustomerID\n",
       "12346.0    127\n",
       "12347.0     48\n",
       "12348.0     50\n",
       "12350.0    111\n",
       "12352.0     63\n",
       "          ... \n",
       "18272.0     26\n",
       "18273.0     58\n",
       "18280.0     79\n",
       "18283.0      1\n",
       "18287.0      3\n",
       "Name: InvoiceDate, Length: 2410, dtype: int64"
      ]
     },
     "execution_count": 16,
     "metadata": {},
     "output_type": "execute_result"
    }
   ],
   "source": [
    "recency_col =(df['InvoiceDate'].max() - df.groupby('CustomerID')['InvoiceDate'].max()).dt.days\n",
    "recency_col"
   ]
  },
  {
   "cell_type": "code",
   "execution_count": 17,
   "id": "70bdc063",
   "metadata": {},
   "outputs": [
    {
     "data": {
      "text/html": [
       "<div>\n",
       "<style scoped>\n",
       "    .dataframe tbody tr th:only-of-type {\n",
       "        vertical-align: middle;\n",
       "    }\n",
       "\n",
       "    .dataframe tbody tr th {\n",
       "        vertical-align: top;\n",
       "    }\n",
       "\n",
       "    .dataframe thead th {\n",
       "        text-align: right;\n",
       "    }\n",
       "</style>\n",
       "<table border=\"1\" class=\"dataframe\">\n",
       "  <thead>\n",
       "    <tr style=\"text-align: right;\">\n",
       "      <th></th>\n",
       "      <th>CustomerID</th>\n",
       "      <th>Recency</th>\n",
       "    </tr>\n",
       "  </thead>\n",
       "  <tbody>\n",
       "    <tr>\n",
       "      <th>0</th>\n",
       "      <td>12346.0</td>\n",
       "      <td>127</td>\n",
       "    </tr>\n",
       "    <tr>\n",
       "      <th>1</th>\n",
       "      <td>12347.0</td>\n",
       "      <td>48</td>\n",
       "    </tr>\n",
       "    <tr>\n",
       "      <th>2</th>\n",
       "      <td>12348.0</td>\n",
       "      <td>50</td>\n",
       "    </tr>\n",
       "    <tr>\n",
       "      <th>3</th>\n",
       "      <td>12350.0</td>\n",
       "      <td>111</td>\n",
       "    </tr>\n",
       "    <tr>\n",
       "      <th>4</th>\n",
       "      <td>12352.0</td>\n",
       "      <td>63</td>\n",
       "    </tr>\n",
       "    <tr>\n",
       "      <th>...</th>\n",
       "      <td>...</td>\n",
       "      <td>...</td>\n",
       "    </tr>\n",
       "    <tr>\n",
       "      <th>2405</th>\n",
       "      <td>18272.0</td>\n",
       "      <td>26</td>\n",
       "    </tr>\n",
       "    <tr>\n",
       "      <th>2406</th>\n",
       "      <td>18273.0</td>\n",
       "      <td>58</td>\n",
       "    </tr>\n",
       "    <tr>\n",
       "      <th>2407</th>\n",
       "      <td>18280.0</td>\n",
       "      <td>79</td>\n",
       "    </tr>\n",
       "    <tr>\n",
       "      <th>2408</th>\n",
       "      <td>18283.0</td>\n",
       "      <td>1</td>\n",
       "    </tr>\n",
       "    <tr>\n",
       "      <th>2409</th>\n",
       "      <td>18287.0</td>\n",
       "      <td>3</td>\n",
       "    </tr>\n",
       "  </tbody>\n",
       "</table>\n",
       "<p>2410 rows × 2 columns</p>\n",
       "</div>"
      ],
      "text/plain": [
       "      CustomerID  Recency\n",
       "0        12346.0      127\n",
       "1        12347.0       48\n",
       "2        12348.0       50\n",
       "3        12350.0      111\n",
       "4        12352.0       63\n",
       "...          ...      ...\n",
       "2405     18272.0       26\n",
       "2406     18273.0       58\n",
       "2407     18280.0       79\n",
       "2408     18283.0        1\n",
       "2409     18287.0        3\n",
       "\n",
       "[2410 rows x 2 columns]"
      ]
     },
     "execution_count": 17,
     "metadata": {},
     "output_type": "execute_result"
    }
   ],
   "source": [
    "recency_df = pd.DataFrame({'CustomerID':recency_col.index, 'Recency':recency_col.values})\n",
    "recency_df"
   ]
  },
  {
   "cell_type": "code",
   "execution_count": 18,
   "id": "654c4d5b",
   "metadata": {},
   "outputs": [],
   "source": [
    "customer_df = pd.merge(customer_df, frequency_df, on='CustomerID')\n",
    "customer_df = pd.merge(customer_df, monetary_df, on='CustomerID')\n",
    "customer_df = pd.merge(customer_df, recency_df, on='CustomerID')"
   ]
  },
  {
   "cell_type": "code",
   "execution_count": 19,
   "id": "b787df7c",
   "metadata": {},
   "outputs": [
    {
     "data": {
      "text/html": [
       "<div>\n",
       "<style scoped>\n",
       "    .dataframe tbody tr th:only-of-type {\n",
       "        vertical-align: middle;\n",
       "    }\n",
       "\n",
       "    .dataframe tbody tr th {\n",
       "        vertical-align: top;\n",
       "    }\n",
       "\n",
       "    .dataframe thead th {\n",
       "        text-align: right;\n",
       "    }\n",
       "</style>\n",
       "<table border=\"1\" class=\"dataframe\">\n",
       "  <thead>\n",
       "    <tr style=\"text-align: right;\">\n",
       "      <th></th>\n",
       "      <th>CustomerID</th>\n",
       "      <th>Frequency</th>\n",
       "      <th>Monetary</th>\n",
       "      <th>Recency</th>\n",
       "    </tr>\n",
       "  </thead>\n",
       "  <tbody>\n",
       "    <tr>\n",
       "      <th>0</th>\n",
       "      <td>13313.0</td>\n",
       "      <td>2</td>\n",
       "      <td>609.74</td>\n",
       "      <td>16</td>\n",
       "    </tr>\n",
       "    <tr>\n",
       "      <th>1</th>\n",
       "      <td>18097.0</td>\n",
       "      <td>2</td>\n",
       "      <td>1274.04</td>\n",
       "      <td>6</td>\n",
       "    </tr>\n",
       "    <tr>\n",
       "      <th>2</th>\n",
       "      <td>16656.0</td>\n",
       "      <td>4</td>\n",
       "      <td>2035.28</td>\n",
       "      <td>28</td>\n",
       "    </tr>\n",
       "    <tr>\n",
       "      <th>3</th>\n",
       "      <td>16875.0</td>\n",
       "      <td>3</td>\n",
       "      <td>805.09</td>\n",
       "      <td>97</td>\n",
       "    </tr>\n",
       "    <tr>\n",
       "      <th>4</th>\n",
       "      <td>13094.0</td>\n",
       "      <td>6</td>\n",
       "      <td>716.76</td>\n",
       "      <td>7</td>\n",
       "    </tr>\n",
       "    <tr>\n",
       "      <th>...</th>\n",
       "      <td>...</td>\n",
       "      <td>...</td>\n",
       "      <td>...</td>\n",
       "      <td>...</td>\n",
       "    </tr>\n",
       "    <tr>\n",
       "      <th>2405</th>\n",
       "      <td>17521.0</td>\n",
       "      <td>1</td>\n",
       "      <td>159.56</td>\n",
       "      <td>0</td>\n",
       "    </tr>\n",
       "    <tr>\n",
       "      <th>2406</th>\n",
       "      <td>15042.0</td>\n",
       "      <td>1</td>\n",
       "      <td>135.93</td>\n",
       "      <td>0</td>\n",
       "    </tr>\n",
       "    <tr>\n",
       "      <th>2407</th>\n",
       "      <td>16091.0</td>\n",
       "      <td>1</td>\n",
       "      <td>157.25</td>\n",
       "      <td>0</td>\n",
       "    </tr>\n",
       "    <tr>\n",
       "      <th>2408</th>\n",
       "      <td>15804.0</td>\n",
       "      <td>1</td>\n",
       "      <td>525.36</td>\n",
       "      <td>0</td>\n",
       "    </tr>\n",
       "    <tr>\n",
       "      <th>2409</th>\n",
       "      <td>14593.0</td>\n",
       "      <td>1</td>\n",
       "      <td>9.15</td>\n",
       "      <td>0</td>\n",
       "    </tr>\n",
       "  </tbody>\n",
       "</table>\n",
       "<p>2410 rows × 4 columns</p>\n",
       "</div>"
      ],
      "text/plain": [
       "      CustomerID  Frequency  Monetary  Recency\n",
       "0        13313.0          2    609.74       16\n",
       "1        18097.0          2   1274.04        6\n",
       "2        16656.0          4   2035.28       28\n",
       "3        16875.0          3    805.09       97\n",
       "4        13094.0          6    716.76        7\n",
       "...          ...        ...       ...      ...\n",
       "2405     17521.0          1    159.56        0\n",
       "2406     15042.0          1    135.93        0\n",
       "2407     16091.0          1    157.25        0\n",
       "2408     15804.0          1    525.36        0\n",
       "2409     14593.0          1      9.15        0\n",
       "\n",
       "[2410 rows x 4 columns]"
      ]
     },
     "execution_count": 19,
     "metadata": {},
     "output_type": "execute_result"
    }
   ],
   "source": [
    "customer_df"
   ]
  },
  {
   "cell_type": "markdown",
   "id": "301547b9",
   "metadata": {},
   "source": [
    "**Add segment bin values to RFM table using quartile. For example, If the recency value\n",
    "belongs to the first quartile, the recency value will be replaced by 1. If it belongs to the\n",
    "second quartile, that value will be replaced by 2**"
   ]
  },
  {
   "cell_type": "markdown",
   "id": "4fc6b287",
   "metadata": {},
   "source": [
    "• Hint: using pd.qcut, create new columns named r_quantile, f_quantile, and\n",
    "m_quantile in the dataframe customer_df\n",
    "\n",
    "• In the customer_df, Create a new column named RFM_Score(1 point). The formula\n",
    "for RFM_Score is as follows\n",
    "RFM_Score = r_quantile + f_quantile + m_quantile"
   ]
  },
  {
   "cell_type": "code",
   "execution_count": 29,
   "id": "94488b26",
   "metadata": {},
   "outputs": [],
   "source": [
    "# Create r_quantile column\n",
    "customer_df['r_quantile'] = pd.qcut(customer_df.Recency,\n",
    "                                    q=4,\n",
    "                                    labels=[1,2,3,4])"
   ]
  },
  {
   "cell_type": "code",
   "execution_count": 41,
   "id": "d11f599b",
   "metadata": {},
   "outputs": [
    {
     "ename": "ValueError",
     "evalue": "Bin labels must be one fewer than the number of bin edges",
     "output_type": "error",
     "traceback": [
      "\u001b[1;31m---------------------------------------------------------------------------\u001b[0m",
      "\u001b[1;31mValueError\u001b[0m                                Traceback (most recent call last)",
      "\u001b[1;32m~\\AppData\\Local\\Temp\\ipykernel_21248\\3033290240.py\u001b[0m in \u001b[0;36m<module>\u001b[1;34m\u001b[0m\n\u001b[0;32m      1\u001b[0m \u001b[1;31m# Create f_quantile column\u001b[0m\u001b[1;33m\u001b[0m\u001b[1;33m\u001b[0m\u001b[0m\n\u001b[1;32m----> 2\u001b[1;33m customer_df['f_quantile'] = pd.qcut(customer_df.Frequency,\n\u001b[0m\u001b[0;32m      3\u001b[0m                                     \u001b[0mq\u001b[0m\u001b[1;33m=\u001b[0m\u001b[1;36m4\u001b[0m\u001b[1;33m,\u001b[0m\u001b[1;33m\u001b[0m\u001b[1;33m\u001b[0m\u001b[0m\n\u001b[0;32m      4\u001b[0m                                     \u001b[0mlabels\u001b[0m\u001b[1;33m=\u001b[0m\u001b[1;33m[\u001b[0m\u001b[1;36m1\u001b[0m\u001b[1;33m,\u001b[0m\u001b[1;36m2\u001b[0m\u001b[1;33m,\u001b[0m\u001b[1;36m3\u001b[0m\u001b[1;33m]\u001b[0m\u001b[1;33m,\u001b[0m\u001b[1;33m\u001b[0m\u001b[1;33m\u001b[0m\u001b[0m\n\u001b[0;32m      5\u001b[0m                                     duplicates = 'drop')\n",
      "\u001b[1;32mD:\\Anaconda\\lib\\site-packages\\pandas\\core\\reshape\\tile.py\u001b[0m in \u001b[0;36mqcut\u001b[1;34m(x, q, labels, retbins, precision, duplicates)\u001b[0m\n\u001b[0;32m    376\u001b[0m     \u001b[0mbins\u001b[0m \u001b[1;33m=\u001b[0m \u001b[0mnp\u001b[0m\u001b[1;33m.\u001b[0m\u001b[0mquantile\u001b[0m\u001b[1;33m(\u001b[0m\u001b[0mx_np\u001b[0m\u001b[1;33m,\u001b[0m \u001b[0mquantiles\u001b[0m\u001b[1;33m)\u001b[0m\u001b[1;33m\u001b[0m\u001b[1;33m\u001b[0m\u001b[0m\n\u001b[0;32m    377\u001b[0m \u001b[1;33m\u001b[0m\u001b[0m\n\u001b[1;32m--> 378\u001b[1;33m     fac, bins = _bins_to_cuts(\n\u001b[0m\u001b[0;32m    379\u001b[0m         \u001b[0mx\u001b[0m\u001b[1;33m,\u001b[0m\u001b[1;33m\u001b[0m\u001b[1;33m\u001b[0m\u001b[0m\n\u001b[0;32m    380\u001b[0m         \u001b[0mbins\u001b[0m\u001b[1;33m,\u001b[0m\u001b[1;33m\u001b[0m\u001b[1;33m\u001b[0m\u001b[0m\n",
      "\u001b[1;32mD:\\Anaconda\\lib\\site-packages\\pandas\\core\\reshape\\tile.py\u001b[0m in \u001b[0;36m_bins_to_cuts\u001b[1;34m(x, bins, right, labels, precision, include_lowest, dtype, duplicates, ordered)\u001b[0m\n\u001b[0;32m    451\u001b[0m         \u001b[1;32melse\u001b[0m\u001b[1;33m:\u001b[0m\u001b[1;33m\u001b[0m\u001b[1;33m\u001b[0m\u001b[0m\n\u001b[0;32m    452\u001b[0m             \u001b[1;32mif\u001b[0m \u001b[0mlen\u001b[0m\u001b[1;33m(\u001b[0m\u001b[0mlabels\u001b[0m\u001b[1;33m)\u001b[0m \u001b[1;33m!=\u001b[0m \u001b[0mlen\u001b[0m\u001b[1;33m(\u001b[0m\u001b[0mbins\u001b[0m\u001b[1;33m)\u001b[0m \u001b[1;33m-\u001b[0m \u001b[1;36m1\u001b[0m\u001b[1;33m:\u001b[0m\u001b[1;33m\u001b[0m\u001b[1;33m\u001b[0m\u001b[0m\n\u001b[1;32m--> 453\u001b[1;33m                 raise ValueError(\n\u001b[0m\u001b[0;32m    454\u001b[0m                     \u001b[1;34m\"Bin labels must be one fewer than the number of bin edges\"\u001b[0m\u001b[1;33m\u001b[0m\u001b[1;33m\u001b[0m\u001b[0m\n\u001b[0;32m    455\u001b[0m                 )\n",
      "\u001b[1;31mValueError\u001b[0m: Bin labels must be one fewer than the number of bin edges"
     ]
    }
   ],
   "source": [
    "# Create f_quantile column\n",
    "customer_df['f_quantile'] = pd.qcut(customer_df.Frequency,\n",
    "                                    q=4,\n",
    "                                    labels=[1,2,3],\n",
    "                                    duplicates = 'drop')\n",
    "\n",
    "customer_df['f_quantile']"
   ]
  },
  {
   "cell_type": "code",
   "execution_count": null,
   "id": "4ccf14af",
   "metadata": {},
   "outputs": [],
   "source": [
    "# Create m_quantile column\n",
    "customer_df['m_quantile'] = pd.qcut(customer_df.Monetary,\n",
    "                                    q=4,\n",
    "                                    labels=[1,2,3,4])"
   ]
  },
  {
   "cell_type": "code",
   "execution_count": null,
   "id": "8d51716f",
   "metadata": {},
   "outputs": [],
   "source": [
    "customer_df"
   ]
  },
  {
   "cell_type": "markdown",
   "id": "a007b163",
   "metadata": {},
   "source": [
    "**In the customer_df, Create a new column named RFM_Score(1 point). The formula\n",
    "for RFM_Score is as follows\n",
    "RFM_Score = r_quantile + f_quantile + m_quantile**"
   ]
  },
  {
   "cell_type": "code",
   "execution_count": null,
   "id": "3a42c5ae",
   "metadata": {},
   "outputs": [],
   "source": [
    "customer_df['RFM_Score'] = customer_df['r_quantile'].astype(int) + customer_df['f_quantile'].astype(int) + customer_df['m_quantile'].astype(int)"
   ]
  },
  {
   "cell_type": "code",
   "execution_count": null,
   "id": "5709ae31",
   "metadata": {},
   "outputs": [],
   "source": [
    "customer_df"
   ]
  },
  {
   "cell_type": "markdown",
   "id": "b459b1c1",
   "metadata": {},
   "source": [
    "**Based on RFM_Score, customers are divided into 3 segments: low-value, mid-value, and high-value so that it satisfies the following rules:**\n",
    "\n",
    "    - The number of customers in the high-value segment does not exceed 20% of the total number of customers.\n",
    "    \n",
    "    - The number of customers in the mid-value segment is no less than 30% of the total number of customers"
   ]
  },
  {
   "cell_type": "code",
   "execution_count": null,
   "id": "3e575681",
   "metadata": {},
   "outputs": [],
   "source": [
    "customer_df['Customer_Segments'] = pd.qcut(customer_df.RFM_Score,\n",
    "                            q=[0,0.3,0.8,1.0],\n",
    "                            labels =['low-value','mid-value','high-value'])"
   ]
  },
  {
   "cell_type": "code",
   "execution_count": null,
   "id": "6275af55",
   "metadata": {},
   "outputs": [],
   "source": [
    "customer_df['Customer_Segments'][100:120]"
   ]
  }
 ],
 "metadata": {
  "kernelspec": {
   "display_name": "Python 3 (ipykernel)",
   "language": "python",
   "name": "python3"
  },
  "language_info": {
   "codemirror_mode": {
    "name": "ipython",
    "version": 3
   },
   "file_extension": ".py",
   "mimetype": "text/x-python",
   "name": "python",
   "nbconvert_exporter": "python",
   "pygments_lexer": "ipython3",
   "version": "3.9.13"
  },
  "toc": {
   "base_numbering": 1,
   "nav_menu": {},
   "number_sections": true,
   "sideBar": true,
   "skip_h1_title": false,
   "title_cell": "Table of Contents",
   "title_sidebar": "Contents",
   "toc_cell": false,
   "toc_position": {},
   "toc_section_display": true,
   "toc_window_display": false
  }
 },
 "nbformat": 4,
 "nbformat_minor": 5
}
